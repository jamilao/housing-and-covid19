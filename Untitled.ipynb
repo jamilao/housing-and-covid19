{
 "cells": [
  {
   "cell_type": "code",
   "execution_count": 2,
   "metadata": {},
   "outputs": [],
   "source": [
    "#loading libraries\n",
    "import seaborn as sns\n",
    "import pandas as pd\n",
    "import numpy as np\n",
    "from scipy import stats"
   ]
  },
  {
   "cell_type": "code",
   "execution_count": null,
   "metadata": {},
   "outputs": [],
   "source": [
    "#county data\n"
   ]
  },
  {
   "cell_type": "code",
   "execution_count": 14,
   "metadata": {},
   "outputs": [],
   "source": [
    "#msa data\n",
    "zillow_rents = pd.read_csv(\"Metro_ZORI_AllHomesPlusMultifamily_SSA.csv\")\n",
    "zillow_valuations = pd.read_csv(\"Metro_zhvi_uc_sfrcondo_tier_0.33_0.67_sm_sa_mon (1).csv\")\n",
    "zillow_sfr_valuations = pd.read_csv(\"Metro_zhvi_uc_sfr_tier_0.33_0.67_sm_sa_mon.csv\")\n",
    "zillow_condo_valuations = pd.read_csv(\"Metro_zhvi_uc_condo_tier_0.33_0.67_sm_sa_mon.csv\")\n",
    "zillow_median_sale_prices = pd.read_csv(\"Metro_median_sale_price_uc_SFRCondo_smoothed_month.csv\")\n",
    "zillow_median_list_prices = pd.read_csv(\"Metro_mlp_uc_sfrcondo_smoothed_month.csv\")\n",
    "zillow_inventory = pd.read_csv(\"Metro_invt_fs_uc_sfrcondo_raw_month.csv\")\n",
    "zillow_sale_counts = pd.read_csv(\"Metro_sales_count_now_uc_sfrcondo_raw_month.csv\")\n"
   ]
  },
  {
   "cell_type": "code",
   "execution_count": 15,
   "metadata": {},
   "outputs": [],
   "source": [
    "zillow_rents.iloc[0] = \"zillow_rents\"\n",
    "zillow_rents.at[0,\"RegionID\"] = 0\n",
    "\n",
    "zillow_valuations.iloc[0] = \"zillow_valuations\"\n",
    "zillow_valuations.at[0,\"RegionID\"] = 0\n",
    "\n",
    "zillow_sfr_valuations.iloc[0] = \"zillow_sfr_valuations\"\n",
    "zillow_sfr_valuations.at[0,\"RegionID\"] = 0\n",
    "\n",
    "zillow_condo_valuations.iloc[0] = \"zillow_condo_valuations\"\n",
    "zillow_condo_valuations.at[0,\"RegionID\"] = 0\n",
    "\n",
    "zillow_median_sale_prices.iloc[0] = \"zillow_median_sale_prices\"\n",
    "zillow_median_sale_prices.at[0,\"RegionID\"] = 0\n",
    "\n",
    "zillow_median_list_prices.iloc[0] = \"zillow_median_list_prices\"\n",
    "zillow_median_list_prices.at[0,\"RegionID\"] = 0\n",
    "\n",
    "zillow_inventory.iloc[0] = \"zillow_inventory\"\n",
    "zillow_inventory.at[0,\"RegionID\"] = 0\n",
    "\n",
    "zillow_sale_counts.iloc[0] = \"zillow_sale_counts\"\n",
    "zillow_sale_counts.at[0,\"RegionID\"] = 0"
   ]
  },
  {
   "cell_type": "code",
   "execution_count": 18,
   "metadata": {},
   "outputs": [],
   "source": [
    "a = zillow_rents.merge(zillow_valuations, on=\"RegionID\")\n",
    "b = a.merge(zillow_sfr_valuations, on = \"RegionID\")\n",
    "c = b.merge(zillow_condo_valuations, on = \"RegionID\")\n",
    "d = c.merge(zillow_median_sale_prices, on = \"RegionID\")\n",
    "e = d.merge(zillow_median_list_prices, on = \"RegionID\")\n",
    "f = e.merge(zillow_inventory, on = \"RegionID\")\n",
    "zillow_master = f.merge(zillow_sale_counts, on = \"RegionID\")\n",
    "zillow_master.to_csv(\"zillow_master.csv\")"
   ]
  }
 ],
 "metadata": {
  "kernelspec": {
   "display_name": "Python 3",
   "language": "python",
   "name": "python3"
  },
  "language_info": {
   "codemirror_mode": {
    "name": "ipython",
    "version": 3
   },
   "file_extension": ".py",
   "mimetype": "text/x-python",
   "name": "python",
   "nbconvert_exporter": "python",
   "pygments_lexer": "ipython3",
   "version": "3.8.5"
  }
 },
 "nbformat": 4,
 "nbformat_minor": 4
}
